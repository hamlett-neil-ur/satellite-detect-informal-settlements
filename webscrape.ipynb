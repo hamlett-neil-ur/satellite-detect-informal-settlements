{
 "cells": [
  {
   "cell_type": "code",
   "execution_count": 360,
   "metadata": {},
   "outputs": [],
   "source": [
    "import pandas as pd\n",
    "import requests\n",
    "import re\n",
    "from bs4 import BeautifulSoup"
   ]
  },
  {
   "cell_type": "code",
   "execution_count": 361,
   "metadata": {},
   "outputs": [],
   "source": [
    "url = 'http://www.statssa.gov.za/?page_id=993&id=city-of-johannesburg-municipality'\n",
    "res = requests.get(url)\n",
    "soup = BeautifulSoup(res.content, 'lxml')"
   ]
  },
  {
   "cell_type": "code",
   "execution_count": 362,
   "metadata": {},
   "outputs": [],
   "source": [
    "lir = soup.find_all('li')"
   ]
  },
  {
   "cell_type": "code",
   "execution_count": 363,
   "metadata": {},
   "outputs": [],
   "source": [
    "city = pd.read_csv('localities.csv')\n",
    "city = list(city['City'])"
   ]
  },
  {
   "cell_type": "code",
   "execution_count": 364,
   "metadata": {},
   "outputs": [],
   "source": [
    "cities = []\n",
    "for i in lir:\n",
    "    dict = {}\n",
    "    if len(re.findall('(?<=a href=\")\\?\\w+\\W+\\d+\\W+\\w+\\W+\\w+\\W+\\d+(?=\">)',str(i.contents))) > 0:\n",
    "        dict['href'] = re.findall('(?<=a href=\")\\?\\w+\\W+\\d+\\W+\\w+\\W+\\w+\\W+\\d+(?=\">)',str(i.contents))\n",
    "        cities.append(dict)\n",
    "    else:\n",
    "        None"
   ]
  },
  {
   "cell_type": "code",
   "execution_count": 365,
   "metadata": {},
   "outputs": [],
   "source": [
    "for i in range(len(cities)):\n",
    "    cities[i-1]['href'][0] = cities[i-1]['href'][0].replace('amp;', '')"
   ]
  },
  {
   "cell_type": "code",
   "execution_count": 366,
   "metadata": {},
   "outputs": [],
   "source": [
    "click_url = {}\n",
    "for i in range(len(cities)):\n",
    "    click_url[i] = f\"http://www.statssa.gov.za/{cities[i]['href']}\""
   ]
  },
  {
   "cell_type": "code",
   "execution_count": 446,
   "metadata": {},
   "outputs": [],
   "source": [
    "url2 = 'http://www.statssa.gov.za/?page_id=4286&id=11305'\n",
    "res2 = requests.get(url2)\n",
    "soup2 = BeautifulSoup(res2.content, 'lxml')"
   ]
  },
  {
   "cell_type": "code",
   "execution_count": 460,
   "metadata": {},
   "outputs": [],
   "source": [
    "tdr = soup2.find_all('td')\n",
    "td = soup2.find('td')"
   ]
  },
  {
   "cell_type": "code",
   "execution_count": 479,
   "metadata": {},
   "outputs": [],
   "source": [
    "stats = []\n",
    "for i in tdr:\n",
    "    dict = {}\n",
    "    dict['element'] = i.text\n",
    "    stats.append(dict)"
   ]
  },
  {
   "cell_type": "code",
   "execution_count": 480,
   "metadata": {},
   "outputs": [
    {
     "name": "stdout",
     "output_type": "stream",
     "text": [
      "179,624\n"
     ]
    }
   ],
   "source": [
    "for i in range(len(stats)-1):\n",
    "    if stats[i]['element'] == 'Total population':\n",
    "        print(stats[i+1]['element'])"
   ]
  },
  {
   "cell_type": "code",
   "execution_count": 481,
   "metadata": {},
   "outputs": [
    {
     "data": {
      "text/plain": [
       "[{'element': 'Total population'},\n",
       " {'element': '179,624'},\n",
       " {'element': 'Young (0-14)'},\n",
       " {'element': '23,8%'},\n",
       " {'element': 'Working Age (15-64)'},\n",
       " {'element': '73,9%'},\n",
       " {'element': 'Elderly (65+)'},\n",
       " {'element': '2,3%'},\n",
       " {'element': 'Dependency ratio'},\n",
       " {'element': '35,3'},\n",
       " {'element': 'Sex ratio'},\n",
       " {'element': '106,9'},\n",
       " {'element': 'Population density'},\n",
       " {'element': '25979 persons/km2'},\n",
       " {'element': 'No schooling aged 20+'},\n",
       " {'element': '4,2%'},\n",
       " {'element': 'Higher education aged 20+'},\n",
       " {'element': '6,2%'},\n",
       " {'element': 'Matric aged 20+'},\n",
       " {'element': '38,5%'},\n",
       " {'element': 'Number of households'},\n",
       " {'element': '63,737'},\n",
       " {'element': 'Average household size'},\n",
       " {'element': '2,7'},\n",
       " {'element': 'Female headed households'},\n",
       " {'element': '33,9%'},\n",
       " {'element': 'Formal dwellings'},\n",
       " {'element': '74,3%'},\n",
       " {'element': 'Housing owned/paying off'},\n",
       " {'element': '44,5%'},\n",
       " {'element': 'Flush toilet connected to sewerage'},\n",
       " {'element': '85,1%'},\n",
       " {'element': 'Weekly refuse removal'},\n",
       " {'element': '88,6%'},\n",
       " {'element': 'Piped water inside dwelling'},\n",
       " {'element': '39,2%'},\n",
       " {'element': 'Electricity for lighting'},\n",
       " {'element': '93,2%'},\n",
       " {'element': '\\n\\n\\nAlexandra\\nChartwell\\nCity of Johannesburg NU\\nDainfern\\nDiepsloot\\nDrie Ziek\\nEbony Park\\nEnnerdale\\nFarmall\\nItsoseng\\nIvory Park\\nJohannesburg\\nKaalfontein\\nKagiso\\nKanana Park\\nLakeside\\nLanseria\\nLawley\\nLehae\\nLenasia\\nLenasia South\\nLucky 7\\nMalatjie\\nMayibuye\\nMidrand\\nMillgate Farm\\nOrange Farm\\nPoortjie\\nRabie Ridge\\nRandburg\\nRandfontein\\nRietfontein\\nRoodepoort\\nSandton\\nSoweto\\nStretford\\nTshepisong\\nVlakfontein\\nZakariyya Park\\nZevenfontein\\n\\n\\n'},\n",
       " {'element': 'Economic Stats\\xa0Joe de Beer (Deputy Director-General)012 310 8024082 888 2600joedb@statssa.gov.za\\n\\xa0Peter Perkins(Economist)012 310 8389082 883 9532peterp@statssa.gov.za'},\n",
       " {'element': 'Social Stats\\xa0Gwen Lehloenya(Acting Deputy Director-General)012 310 8333083 888 2323gwenL@statssa.gov.za\\n\\xa0Neo Nghenavo(Director)012 310 8047082 888 2613neon@statssa.gov.za'},\n",
       " {'element': 'Consumer price index (CPI), Producer price index (PPI), Unit value indices: exports / imports, Construction materials price indices'},\n",
       " {'element': '\\xa0 Patrick Kelly (Chief Director)012 310 8290082 888 2248patrickke@statssa.gov.za'},\n",
       " {'element': '\\xa0Marietjie Bennett (Director)012 310 8077082 888 2194marietjieb@statssa.gov.za'},\n",
       " {'element': 'Producer price index (PPI), Unit value index (UVI), Contract price adjustment provisions (CPAP)'},\n",
       " {'element': '\\xa0Patrick Kelly (Chief Director)012 310 8290082 888 2248patrickke@statssa.gov.za'},\n",
       " {'element': '\\xa0Andrew Rankhumise (Pricipal survey Statistician)012 406 3304andrewR@statssa.gov.za'},\n",
       " {'element': 'Government finance: national and provincial government'},\n",
       " {'element': '\\xa0Patrick Naidoo (Chief Director)012 310 8307082 888 2509patrickn@statssa.gov.za'},\n",
       " {'element': '\\xa0Elizabeth Makhafola (Director)012 310 8977082 888 9062elizabethma@statssa.gov.za'},\n",
       " {'element': 'Government finance: local government'},\n",
       " {'element': '\\xa0Patrick Naidoo (Chief Director)012 310 8307082 888 2509patrickn@statssa.gov.za'},\n",
       " {'element': '\\xa0Malibongwe Mhemhe (Director)012 310 6928082 906 8964malibongwem@statssa.gov.za'},\n",
       " {'element': 'Gross domestic product (GDP), production'},\n",
       " {'element': '\\xa0Michael Manamela (Chief Director)012 310 8520082 888 2205michaelm@statssa.gov.za'},\n",
       " {'element': '\\xa0Bontlenyana Makhoba(Chief Economist)012 310 8567bontlenyanam@statssa.gov.za'},\n",
       " {'element': 'Satellite accounts, environmental-economic accounts'},\n",
       " {'element': '\\xa0Gerhardt Bouwer (Chief Director)012 310 8241082 888 2409gerhardb@statssa.gov.za'},\n",
       " {'element': '\\xa0Riaan Grobler (Director)012 310 8321084 515 2908riaang@statssa.gov.za'},\n",
       " {'element': 'Mining, manufacturing, building, electricity, liquidations, civil cases, capacity utilisation'},\n",
       " {'element': '\\xa0Gerda Bruwer (Chief Director)012 310 8249082 786 3627gerdab@statssa.gov.za'},\n",
       " {'element': '\\xa0Nicolai Claassen (Director)012 310 8007076 759 0200nicolaic@statssa.gov.za'},\n",
       " {'element': 'Retail, wholesale, motor, food & beverages, tourist accommodation, transport'},\n",
       " {'element': '\\xa0Gerda Bruwer (Chief Director)012 310 8249082 786 3627gerdab@statssa.gov.za'},\n",
       " {'element': '\\xa0Keshnee Govender (Director)012 310 8423083 689 5341keshneeg@statssa.gov.za'},\n",
       " {'element': 'Annual financial statistics (AFS)'},\n",
       " {'element': '\\xa0Sagaren Pillay (Chief Director)012 310 4619082 905 2665sagarenp@statssa.gov.za'},\n",
       " {'element': '\\xa0Amukelani Ngobeni (Director)012 310 2928082 677 4536amukelanin@statssa.gov.za'},\n",
       " {'element': 'Quarterly financial statistics (QFS)'},\n",
       " {'element': '\\xa0Sagaren Pillay (Chief Director)012 310 4619082 905 2665sagarenp@statssa.gov.za'},\n",
       " {'element': '\\xa0Krisseelan Govinden (Director)012 310 4651082 901 7960krisseelang@statssa.gov.za'},\n",
       " {'element': 'Periodic industry surveys (every three to five years)'},\n",
       " {'element': '\\xa0Itani Magwaba (Chief Director)012 337 6471 / 6254082 905 5143itanim@statssa.gov.za'},\n",
       " {'element': '\\xa0Tshepo Pekane (Director)012 310 8191083 675 8654tshepop@statssa.gov.za'},\n",
       " {'element': 'Agriculture (annual and periodic)'},\n",
       " {'element': '\\xa0Itani Magwaba (Chief Director)012 337 6471 / 6254082 905 5143itanim@statssa.gov.za'},\n",
       " {'element': '\\xa0Tshepo Pekane (Director)012 310 8191083 675 8654tshepop@statssa.gov.za'},\n",
       " {'element': 'Population Statistics (Census and Community Survey)'},\n",
       " {'element': '\\xa0Christine Khoza (Chief Director)012 310 2185071 670 2672christinek@statssa.gov.za'},\n",
       " {'element': '\\xa0Angela Ngyende (Chief Statistician)012 310 4699079 519 3212angelan@statssa.gov.za'},\n",
       " {'element': 'Demography-Mid-year Population Estimates'},\n",
       " {'element': '\\xa0Diego Iturralde (Chief Director)012 310 8922082 413 2661diegoi@statssa.gov.za'},\n",
       " {'element': '\\xa0Chantal Munthree (Chief Statistician)012 310 6648082 888 2289chantalMu@statssa.gov.za'},\n",
       " {'element': 'Labour Statistics- Quarterly Labour Force Survey (QLFS)'},\n",
       " {'element': '\\xa0Malerato Mosiane (Acting Chief Director)082 888 2449maleratoM@statssa.gov.za'},\n",
       " {'element': '\\xa0Desiree Manamela (Director)012 310 2145071 681 2768DesireeM@statssa.gov.za\\n'},\n",
       " {'element': 'Quarterly Employment Statistics (QES)'},\n",
       " {'element': '\\xa0Malerato Mosiane (Acting Chief Director)012 310 8688082 888 2449maleratoM@statssa.gov.za'},\n",
       " {'element': '\\xa0Matlapane Masupye (Deputy Director)012 310 8168082 317 5340matlapanem@statssa.gov.za'},\n",
       " {'element': 'Tourism Statistics (Domestic Tourism Survey)'},\n",
       " {'element': '\\xa0Isabel Schmidt (Chief Director )012 337 6379 082 884 4281IsabelSc@statssa.gov.za'},\n",
       " {'element': '\\xa0Brenda Mosima (Director)012 310 8168082 906 7925BrendaMo@statssa.gov.za'},\n",
       " {'element': 'Crime and Safety Statistics (Victims of Crime Survey)'},\n",
       " {'element': '\\xa0Isabel Schmidt (Chief Director )012 337 6379 082 884 4281IsabelSc@statssa.gov.za'},\n",
       " {'element': '\\xa0Joseph Lukhwareni (Director)012 310 8485082 888 2486JosephL@statssa.gov.za'},\n",
       " {'element': 'Service Delivery Statistics (General Household Survey)'},\n",
       " {'element': '\\xa0Isabel Schmidt (Chief Director )012 337 6379 082 884 4281IsabelSc@statssa.gov.za'},\n",
       " {'element': '\\xa0Niel Roux (Director)012 310 2939082 904 7919NielR@statssa.gov.za'},\n",
       " {'element': 'Transport Statistics (National Travel Survey)'},\n",
       " {'element': '\\xa0Isabel Schmidt (Chief Director )012 337 6379 082 884 4281IsabelSc@statssa.gov.za'},\n",
       " {'element': '\\xa0Solly Molayi (Director) 012 310 6442083 440 7035SollyMol@statssa.gov.za'},\n",
       " {'element': 'Gender Statistics'},\n",
       " {'element': '\\xa0Isabel Schmidt (Chief Director )012 337 6379 082 884 4281IsabelSc@statssa.gov.za'},\n",
       " {'element': '\\xa0Tshepo Mabela (Director)012 310 8587082 941 9383TshepoMab@statssa.gov.za'},\n",
       " {'element': 'Mortality & Causes of Death, Perinatal deaths in South Africa, Living conditions survey (LCS), Thematic Health Report, South Africa Demographic and Health Survey'},\n",
       " {'element': '\\xa0Rika du Plessis (Acting Chief Director)Health and Vital Statistics012 310 2913..rikaDP@statssa.gov.za'},\n",
       " {'element': '\\xa0Thabo Molebatsi(Director)012 310 4857060 997 8372thabomol@statssa.gov.za'},\n",
       " {'element': 'Tourism and Migration '},\n",
       " {'element': '\\xa0Rika du Plessis (Acting Chief Director)Health and Vital Statistics012 310 2913..rikaDP@statssa.gov.za'},\n",
       " {'element': '\\xa0Ramadimetja Matji(Director)012 406 33011071 670 3272ramadimetjaM@statssa.gov.za'},\n",
       " {'element': 'Registered  Births '},\n",
       " {'element': '\\xa0Rika du Plessis (Acting Chief Director)Health and Vital Statistics012 310 2913..rikaDP@statssa.gov.za'},\n",
       " {'element': '\\xa0Thabo Molebatsi(Director)012 310 4857060 997 8372thabomol@statssa.gov.za'},\n",
       " {'element': 'Marriages and Divorces'},\n",
       " {'element': '\\xa0Rika du Plessis (Acting Chief Director)Health and Vital Statistics012 310 2913..rikaDP@statssa.gov.za'},\n",
       " {'element': '\\xa0Ramadimetja Matji(Director)012 406 33011071 670 3272ramadimetjaM@statssa.gov.za'},\n",
       " {'element': 'Living Conditions Survey'},\n",
       " {'element': '\\xa0Nozipho Shabalala  (Chief Director )012 310 6994082 904 8896Noziphos@statssa.gov.za'},\n",
       " {'element': '\\xa0Patricia Koka (Director)012 310 8555071 680 9545PatriciaK@statssa.gov.za'},\n",
       " {'element': 'Income and Expenditure Survey'},\n",
       " {'element': '\\xa0Nozipho Shabalala  (Chief Director )012 310 6994082 904 8896Noziphos@statssa.gov.za'},\n",
       " {'element': '\\xa0Werner Ruch (Director)012 310 6318082 906 7967wernerr@statssa.gov.za'},\n",
       " {'element': '© Statistics South Africa'},\n",
       " {'element': 'Access to information'},\n",
       " {'element': 'Disclaimer'}]"
      ]
     },
     "execution_count": 481,
     "metadata": {},
     "output_type": "execute_result"
    }
   ],
   "source": [
    "stats"
   ]
  }
 ],
 "metadata": {
  "kernelspec": {
   "display_name": "Python [conda env:dsi]",
   "language": "python",
   "name": "conda-env-dsi-py"
  },
  "language_info": {
   "codemirror_mode": {
    "name": "ipython",
    "version": 3
   },
   "file_extension": ".py",
   "mimetype": "text/x-python",
   "name": "python",
   "nbconvert_exporter": "python",
   "pygments_lexer": "ipython3",
   "version": "3.7.5"
  }
 },
 "nbformat": 4,
 "nbformat_minor": 4
}
