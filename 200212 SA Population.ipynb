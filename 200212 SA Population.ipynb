{
 "cells": [
  {
   "cell_type": "code",
   "execution_count": 31,
   "metadata": {},
   "outputs": [],
   "source": [
    "import numpy as np\n",
    "import matplotlib.pyplot as plt\n",
    "import pywt\n",
    "import pywt.data\n",
    "from skimage import data, color\n",
    "from skimage.transform import rescale, resize, downscale_local_mean\n",
    "import itertools as it\n",
    "import matplotlib as mpl\n",
    "import matplotlib.pyplot as plt\n",
    "import matplotlib.image as mpimg\n",
    "import matplotlib.gridspec as gridspec\n",
    "from matplotlib import cm\n",
    "from matplotlib.colors import ListedColormap, LinearSegmentedColormap\n",
    "import os \n",
    "from PIL import Image\n",
    "Image.MAX_IMAGE_PIXELS = 900_000_000\n",
    "import pandas as pd\n",
    "from sklearn.preprocessing import StandardScaler\n",
    "from sklearn.metrics import silhouette_score\n",
    "from sklearn.datasets import load_iris, load_wine\n",
    "from sklearn.cluster import DBSCAN\n",
    "import seaborn as sns\n",
    "from collections import Counter"
   ]
  },
  {
   "cell_type": "code",
   "execution_count": 2,
   "metadata": {},
   "outputs": [],
   "source": [
    "sa_pop = mpimg.imread('../zaf_ppp_2019.tif')"
   ]
  },
  {
   "cell_type": "code",
   "execution_count": 3,
   "metadata": {},
   "outputs": [],
   "source": [
    "sa_pop_csv = pd.read_csv(filepath_or_buffer = './data/population_zaf_2018-10-01.csv')"
   ]
  },
  {
   "cell_type": "code",
   "execution_count": 4,
   "metadata": {},
   "outputs": [
    {
     "data": {
      "text/html": [
       "<div>\n",
       "<style scoped>\n",
       "    .dataframe tbody tr th:only-of-type {\n",
       "        vertical-align: middle;\n",
       "    }\n",
       "\n",
       "    .dataframe tbody tr th {\n",
       "        vertical-align: top;\n",
       "    }\n",
       "\n",
       "    .dataframe thead th {\n",
       "        text-align: right;\n",
       "    }\n",
       "</style>\n",
       "<table border=\"1\" class=\"dataframe\">\n",
       "  <thead>\n",
       "    <tr style=\"text-align: right;\">\n",
       "      <th></th>\n",
       "      <th>count</th>\n",
       "      <th>mean</th>\n",
       "      <th>std</th>\n",
       "      <th>min</th>\n",
       "      <th>25%</th>\n",
       "      <th>50%</th>\n",
       "      <th>75%</th>\n",
       "      <th>max</th>\n",
       "    </tr>\n",
       "  </thead>\n",
       "  <tbody>\n",
       "    <tr>\n",
       "      <td>Lat</td>\n",
       "      <td>10605372.0</td>\n",
       "      <td>-28.256131</td>\n",
       "      <td>3.148587</td>\n",
       "      <td>-34.830694</td>\n",
       "      <td>-30.765139</td>\n",
       "      <td>-27.889861</td>\n",
       "      <td>-25.767083</td>\n",
       "      <td>-22.131250</td>\n",
       "    </tr>\n",
       "    <tr>\n",
       "      <td>Lon</td>\n",
       "      <td>10605372.0</td>\n",
       "      <td>28.063472</td>\n",
       "      <td>3.095862</td>\n",
       "      <td>16.475417</td>\n",
       "      <td>27.278750</td>\n",
       "      <td>28.547917</td>\n",
       "      <td>30.195417</td>\n",
       "      <td>32.877917</td>\n",
       "    </tr>\n",
       "    <tr>\n",
       "      <td>Population</td>\n",
       "      <td>10605372.0</td>\n",
       "      <td>5.131888</td>\n",
       "      <td>7.642488</td>\n",
       "      <td>0.007200</td>\n",
       "      <td>2.140180</td>\n",
       "      <td>3.353750</td>\n",
       "      <td>5.458840</td>\n",
       "      <td>2192.072110</td>\n",
       "    </tr>\n",
       "  </tbody>\n",
       "</table>\n",
       "</div>"
      ],
      "text/plain": [
       "                 count       mean       std        min        25%        50%  \\\n",
       "Lat         10605372.0 -28.256131  3.148587 -34.830694 -30.765139 -27.889861   \n",
       "Lon         10605372.0  28.063472  3.095862  16.475417  27.278750  28.547917   \n",
       "Population  10605372.0   5.131888  7.642488   0.007200   2.140180   3.353750   \n",
       "\n",
       "                  75%          max  \n",
       "Lat        -25.767083   -22.131250  \n",
       "Lon         30.195417    32.877917  \n",
       "Population   5.458840  2192.072110  "
      ]
     },
     "execution_count": 4,
     "metadata": {},
     "output_type": "execute_result"
    }
   ],
   "source": [
    "sa_pop_csv.describe().T"
   ]
  },
  {
   "cell_type": "code",
   "execution_count": 5,
   "metadata": {},
   "outputs": [],
   "source": [
    "jberg_pop = sa_pop_csv.loc[ (sa_pop_csv['Lat'].between(left = -26.2,\n",
    "                                                       right = -26.1)) &\\\n",
    "                            (sa_pop_csv['Lon'].between(left = 27.9,\n",
    "                                                         right = 28.1))]"
   ]
  },
  {
   "cell_type": "code",
   "execution_count": 15,
   "metadata": {},
   "outputs": [
    {
     "data": {
      "text/plain": [
       "<matplotlib.axes._subplots.AxesSubplot at 0x1c21fd2990>"
      ]
     },
     "execution_count": 15,
     "metadata": {},
     "output_type": "execute_result"
    },
    {
     "data": {
      "image/png": "[encoded data removed]",
      "text/plain": [
       "<Figure size 432x288 with 1 Axes>"
      ]
     },
     "metadata": {
      "needs_background": "light"
     },
     "output_type": "display_data"
    }
   ],
   "source": [
    "sns.distplot(a = jberg_pop['Population'],\n",
    "             bins = 200)"
   ]
  },
  {
   "cell_type": "code",
   "execution_count": 86,
   "metadata": {},
   "outputs": [],
   "source": [
    "jberg_pop_truncated = jberg_pop.loc[jberg_pop['Population'] >= 1.1 * jberg_pop['Population'].min()]"
   ]
  },
  {
   "cell_type": "code",
   "execution_count": 87,
   "metadata": {},
   "outputs": [
    {
     "data": {
      "text/html": [
       "<div>\n",
       "<style scoped>\n",
       "    .dataframe tbody tr th:only-of-type {\n",
       "        vertical-align: middle;\n",
       "    }\n",
       "\n",
       "    .dataframe tbody tr th {\n",
       "        vertical-align: top;\n",
       "    }\n",
       "\n",
       "    .dataframe thead th {\n",
       "        text-align: right;\n",
       "    }\n",
       "</style>\n",
       "<table border=\"1\" class=\"dataframe\">\n",
       "  <thead>\n",
       "    <tr style=\"text-align: right;\">\n",
       "      <th></th>\n",
       "      <th>count</th>\n",
       "      <th>mean</th>\n",
       "      <th>std</th>\n",
       "      <th>min</th>\n",
       "      <th>25%</th>\n",
       "      <th>50%</th>\n",
       "      <th>75%</th>\n",
       "      <th>max</th>\n",
       "    </tr>\n",
       "  </thead>\n",
       "  <tbody>\n",
       "    <tr>\n",
       "      <td>Lat</td>\n",
       "      <td>100211.0</td>\n",
       "      <td>-26.148334</td>\n",
       "      <td>0.028476</td>\n",
       "      <td>-26.199861</td>\n",
       "      <td>-26.173472</td>\n",
       "      <td>-26.147639</td>\n",
       "      <td>-26.123472</td>\n",
       "      <td>-26.100139</td>\n",
       "    </tr>\n",
       "    <tr>\n",
       "      <td>Lon</td>\n",
       "      <td>100211.0</td>\n",
       "      <td>28.002397</td>\n",
       "      <td>0.057652</td>\n",
       "      <td>27.900139</td>\n",
       "      <td>27.953750</td>\n",
       "      <td>28.001528</td>\n",
       "      <td>28.052361</td>\n",
       "      <td>28.099861</td>\n",
       "    </tr>\n",
       "    <tr>\n",
       "      <td>Population</td>\n",
       "      <td>100211.0</td>\n",
       "      <td>8.502738</td>\n",
       "      <td>22.740921</td>\n",
       "      <td>0.078190</td>\n",
       "      <td>3.492670</td>\n",
       "      <td>4.618400</td>\n",
       "      <td>6.554530</td>\n",
       "      <td>1286.048750</td>\n",
       "    </tr>\n",
       "  </tbody>\n",
       "</table>\n",
       "</div>"
      ],
      "text/plain": [
       "               count       mean        std        min        25%        50%  \\\n",
       "Lat         100211.0 -26.148334   0.028476 -26.199861 -26.173472 -26.147639   \n",
       "Lon         100211.0  28.002397   0.057652  27.900139  27.953750  28.001528   \n",
       "Population  100211.0   8.502738  22.740921   0.078190   3.492670   4.618400   \n",
       "\n",
       "                  75%          max  \n",
       "Lat        -26.123472   -26.100139  \n",
       "Lon         28.052361    28.099861  \n",
       "Population   6.554530  1286.048750  "
      ]
     },
     "execution_count": 87,
     "metadata": {},
     "output_type": "execute_result"
    }
   ],
   "source": [
    "jberg_pop_truncated.describe().T"
   ]
  },
  {
   "cell_type": "code",
   "execution_count": 88,
   "metadata": {},
   "outputs": [
    {
     "data": {
      "text/html": [
       "<div>\n",
       "<style scoped>\n",
       "    .dataframe tbody tr th:only-of-type {\n",
       "        vertical-align: middle;\n",
       "    }\n",
       "\n",
       "    .dataframe tbody tr th {\n",
       "        vertical-align: top;\n",
       "    }\n",
       "\n",
       "    .dataframe thead th {\n",
       "        text-align: right;\n",
       "    }\n",
       "</style>\n",
       "<table border=\"1\" class=\"dataframe\">\n",
       "  <thead>\n",
       "    <tr style=\"text-align: right;\">\n",
       "      <th></th>\n",
       "      <th>count</th>\n",
       "      <th>mean</th>\n",
       "      <th>std</th>\n",
       "      <th>min</th>\n",
       "      <th>25%</th>\n",
       "      <th>50%</th>\n",
       "      <th>75%</th>\n",
       "      <th>max</th>\n",
       "    </tr>\n",
       "  </thead>\n",
       "  <tbody>\n",
       "    <tr>\n",
       "      <td>Lat</td>\n",
       "      <td>100211.0</td>\n",
       "      <td>-5.225927e-14</td>\n",
       "      <td>1.000005</td>\n",
       "      <td>-1.809463</td>\n",
       "      <td>-0.882764</td>\n",
       "      <td>0.024424</td>\n",
       "      <td>0.873086</td>\n",
       "      <td>1.692481</td>\n",
       "    </tr>\n",
       "    <tr>\n",
       "      <td>Lon</td>\n",
       "      <td>100211.0</td>\n",
       "      <td>-5.281144e-14</td>\n",
       "      <td>1.000005</td>\n",
       "      <td>-1.773702</td>\n",
       "      <td>-0.843795</td>\n",
       "      <td>-0.015069</td>\n",
       "      <td>0.866656</td>\n",
       "      <td>1.690563</td>\n",
       "    </tr>\n",
       "    <tr>\n",
       "      <td>Population</td>\n",
       "      <td>100211.0</td>\n",
       "      <td>-3.892640e-15</td>\n",
       "      <td>1.000005</td>\n",
       "      <td>-0.370459</td>\n",
       "      <td>-0.220312</td>\n",
       "      <td>-0.170809</td>\n",
       "      <td>-0.085670</td>\n",
       "      <td>56.178568</td>\n",
       "    </tr>\n",
       "  </tbody>\n",
       "</table>\n",
       "</div>"
      ],
      "text/plain": [
       "               count          mean       std       min       25%       50%  \\\n",
       "Lat         100211.0 -5.225927e-14  1.000005 -1.809463 -0.882764  0.024424   \n",
       "Lon         100211.0 -5.281144e-14  1.000005 -1.773702 -0.843795 -0.015069   \n",
       "Population  100211.0 -3.892640e-15  1.000005 -0.370459 -0.220312 -0.170809   \n",
       "\n",
       "                 75%        max  \n",
       "Lat         0.873086   1.692481  \n",
       "Lon         0.866656   1.690563  \n",
       "Population -0.085670  56.178568  "
      ]
     },
     "execution_count": 88,
     "metadata": {},
     "output_type": "execute_result"
    }
   ],
   "source": [
    "jberg_pop_scaler = StandardScaler()\n",
    "jberg_pop_scaler.fit(X = jberg_pop_truncated)\n",
    "jberg_pop_scaled = pd.DataFrame(data = jberg_pop_scaler.transform(X = jberg_pop_truncated),\n",
    "                                columns = jberg_pop_truncated.columns,\n",
    "                                index = jberg_pop_truncated.index)\n",
    "jberg_pop_scaled.describe().T"
   ]
  },
  {
   "cell_type": "code",
   "execution_count": 89,
   "metadata": {},
   "outputs": [
    {
     "data": {
      "text/plain": [
       "DBSCAN(algorithm='auto', eps=0.4, leaf_size=30, metric='euclidean',\n",
       "       metric_params=None, min_samples=5, n_jobs=None, p=None)"
      ]
     },
     "execution_count": 89,
     "metadata": {},
     "output_type": "execute_result"
    }
   ],
   "source": [
    "jberg_pop_dbscan = DBSCAN(eps = 0.4,\n",
    "                          min_samples = 5)\n",
    "jberg_pop_dbscan.fit(jberg_pop_scaled)"
   ]
  },
  {
   "cell_type": "code",
   "execution_count": 90,
   "metadata": {},
   "outputs": [],
   "source": [
    "twilight_shifted = dict(zip(jberg_pop_dbscan.labels_,\n",
    "                             cm.get_cmap('twilight_shifted', len(jberg_pop_dbscan.labels_)).colors))\n",
    "twilight_shifted.update({idx : np.concatenate((twilight_shifted.get(idx)[:-1], np.array([0])))\n",
    "                         for idx in {-1, 0}})"
   ]
  },
  {
   "cell_type": "code",
   "execution_count": 92,
   "metadata": {},
   "outputs": [
    {
     "data": {
      "text/plain": [
       "<matplotlib.collections.PathCollection at 0x1c25e44b50>"
      ]
     },
     "execution_count": 92,
     "metadata": {},
     "output_type": "execute_result"
    },
    {
     "data": {
      "image/png": "[encoded data removed]",
      "text/plain": [
       "<Figure size 432x288 with 1 Axes>"
      ]
     },
     "metadata": {
      "needs_background": "light"
     },
     "output_type": "display_data"
    }
   ],
   "source": [
    "plt.scatter(jberg_pop_truncated['Lat'],\n",
    "            jberg_pop_truncated['Lon'],\n",
    "            color = pd.Series(data = jberg_pop_dbscan.labels_).map(twilight_shifted),\n",
    "            s = 1)"
   ]
  },
  {
   "cell_type": "code",
   "execution_count": 67,
   "metadata": {},
   "outputs": [],
   "source": [
    "np.put(a = twilight_shifted.get(0),\n",
    "       ind = 3,\n",
    "       v = 0)"
   ]
  },
  {
   "cell_type": "code",
   "execution_count": 68,
   "metadata": {},
   "outputs": [
    {
     "data": {
      "text/plain": [
       "array([0.18488036, 0.07942573, 0.21307652, 0.        ])"
      ]
     },
     "execution_count": 68,
     "metadata": {},
     "output_type": "execute_result"
    }
   ],
   "source": [
    "twilight_shifted.get(0)"
   ]
  },
  {
   "cell_type": "code",
   "execution_count": null,
   "metadata": {},
   "outputs": [],
   "source": []
  }
 ],
 "metadata": {
  "kernelspec": {
   "display_name": "Python 3",
   "language": "python",
   "name": "python3"
  },
  "language_info": {
   "codemirror_mode": {
    "name": "ipython",
    "version": 3
   },
   "file_extension": ".py",
   "mimetype": "text/x-python",
   "name": "python",
   "nbconvert_exporter": "python",
   "pygments_lexer": "ipython3",
   "version": "3.7.4"
  }
 },
 "nbformat": 4,
 "nbformat_minor": 2
}
